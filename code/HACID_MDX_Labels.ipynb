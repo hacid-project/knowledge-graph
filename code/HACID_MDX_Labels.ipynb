{
 "cells": [
  {
   "cell_type": "markdown",
   "id": "5f260340-5e08-4a28-bb55-afefc29ed5ba",
   "metadata": {},
   "source": [
    "# Generating the knowledge graph for medical diagnostics\n",
    "\n",
    "## Preliminaries \n",
    "We import required libraries, select the folder that contains data, and we define global variables."
   ]
  },
  {
   "cell_type": "code",
   "execution_count": 25,
   "id": "8e7278f3-0f06-4727-8e7a-ba6c5f9ea499",
   "metadata": {},
   "outputs": [],
   "source": [
    "import os\n",
    "import pandas as pd\n",
    "import os\n",
    "from rdflib import Graph, URIRef, Literal, Namespace, RDFS\n",
    "\n",
    "os.chdir('/Volumes/GoogleDrive/My Drive/SNOMED-CT/Snapshot/Terminology')\n",
    "\n",
    "MDX = Namespace('https://w3id.org/hacid/onto/mdx/')\n",
    "MDXD = Namespace('https://w3id.org/hacid/mdx/data/')"
   ]
  },
  {
   "cell_type": "markdown",
   "id": "839e06f7-6ef9-42b7-84f4-a1150e010398",
   "metadata": {},
   "source": [
    "## Loading dataframes from input tabular data\n",
    "We read the file ```sct2_Relationship_Snapshot_INT_20230630``` that contains all the relations among terms in SNOMED-CT.\n",
    "\n",
    "This file will be used for generating the ontology modules and populating those modules."
   ]
  },
  {
   "cell_type": "code",
   "execution_count": 13,
   "id": "3f765117-faf6-4a98-bd95-abb7bc666a04",
   "metadata": {},
   "outputs": [],
   "source": [
    "relations = pd.read_csv('sct2_Relationship_Snapshot_INT_20230630.txt', delimiter='\\t', dtype=str)\n",
    "relations = relations[relations['active']=='1']\n",
    "#print(relations)"
   ]
  },
  {
   "cell_type": "markdown",
   "id": "e5cea2c9-866a-4b70-87ea-1a8323bd5e86",
   "metadata": {},
   "source": [
    "Then, we read the file ```sct2_Description_Snapshot-en_INT_20230630.txt``` that contains all the descriptions (i.e. labels) of clinical terms in SNOMED-CT. \n",
    "\n",
    "From the list of descriptions we keep only those that are marked as active (i.e. the field _active = 1_)\n",
    "\n",
    "In this file we are interested with the columns _id_, _conceptId_, _term_, and _typeId_, as:\n",
    " * _id_ idetifies uniquely the association of the clinical term with the description;\n",
    " * _conceptId_ identifies the clinical term;\n",
    " * _term_ is the label;\n",
    " * _typeId_ is the code that distinguishes between fully specified names (i.e. 900000000000003001) and synomyms (i.e. 900000000000013009)."
   ]
  },
  {
   "cell_type": "code",
   "execution_count": 15,
   "id": "7b8d441a-005d-4e4e-ad6b-71cb32245b46",
   "metadata": {},
   "outputs": [],
   "source": [
    "descriptions = pd.read_csv('sct2_Description_Snapshot-en_INT_20230630.txt', delimiter='\\t', dtype=str)\n",
    "descriptions = descriptions[descriptions['active'] == '1']\n",
    "descriptions = descriptions[['id', 'conceptId', 'term', 'typeId']]\n",
    "\n",
    "#print(descriptions)"
   ]
  },
  {
   "cell_type": "markdown",
   "id": "a8313d13-8390-43df-99f6-c88a28685d44",
   "metadata": {},
   "source": [
    "Now we read the file ```der2_cRefset_LanguageSnapshot-en_INT_20230630.txt``` that contains language reference sets. Basically, it allows to distinguish between preferred and alternative labels according to a give language. \n",
    "\n",
    "From the orginal fields avaible when reading the dataframe we only keep the following:\n",
    " * _refsetId_ that identified the reference set. As we are using the interational edition of SNOMED-CT only two reference sets are available, that is US Enghish (i.e. 900000000000509007) and Great Britain English (i.e. 900000000000508004);\n",
    " * _referencedComponentId_ that is the identifier of the association of a clinical term with a given description in the file ```sct2_Relationship_Snapshot_INT_20230630.txt```;\n",
    " * _acceptabilityId_ that allows to distinguish between preferred labels (i.e. 900000000000548007) and alternative ones (i.e. 900000000000549004)."
   ]
  },
  {
   "cell_type": "code",
   "execution_count": 16,
   "id": "dc0aca29-88db-4c4f-91f2-c483081ade4b",
   "metadata": {},
   "outputs": [],
   "source": [
    "refset = pd.read_csv('der2_cRefset_LanguageSnapshot-en_INT_20230630.txt', delimiter='\\t', dtype=str)\n",
    "refset = refset[refset['active'] == '1' ][['refsetId', 'referencedComponentId', 'acceptabilityId']]\n",
    "#print(refset)"
   ]
  },
  {
   "cell_type": "markdown",
   "id": "65370419-2e8e-4ecc-abe9-5697284bdbaf",
   "metadata": {},
   "source": [
    "## Terms with language sets\n",
    "We create a dataframe that joins definitions and language sets.\n",
    "This dataframe is then used for deriving fully specified names, preferred terms among synomyms, and alternative terms among synonyms."
   ]
  },
  {
   "cell_type": "code",
   "execution_count": 20,
   "id": "7fabbdc2-855b-42b2-9539-fa29851d61a5",
   "metadata": {},
   "outputs": [
    {
     "name": "stdout",
     "output_type": "stream",
     "text": [
      "                  conceptId                                      term  \\\n",
      "1000              127362006            Previous pregnancies (finding)   \n",
      "1001              127362006            Previous pregnancies (finding)   \n",
      "250524            122549002                         Injury (disorder)   \n",
      "250525            122549002                         Injury (disorder)   \n",
      "272010            125587004             Superficial injury (disorder)   \n",
      "...                     ...                                       ...   \n",
      "2531716  900000000000548007   Preferred (foundation metadata concept)   \n",
      "2531719  900000000000549004  Acceptable (foundation metadata concept)   \n",
      "2531720  900000000000549004  Acceptable (foundation metadata concept)   \n",
      "2531725  900000000000550004        Definition (core metadata concept)   \n",
      "2531726  900000000000550004        Definition (core metadata concept)   \n",
      "\n",
      "                   refsetId  \n",
      "1000     900000000000509007  \n",
      "1001     900000000000508004  \n",
      "250524   900000000000508004  \n",
      "250525   900000000000509007  \n",
      "272010   900000000000508004  \n",
      "...                     ...  \n",
      "2531716  900000000000508004  \n",
      "2531719  900000000000508004  \n",
      "2531720  900000000000509007  \n",
      "2531725  900000000000509007  \n",
      "2531726  900000000000508004  \n",
      "\n",
      "[1009850 rows x 3 columns]\n"
     ]
    }
   ],
   "source": [
    "terms = descriptions.merge(refset, how='left', left_on='id', right_on='referencedComponentId')\n",
    "\n",
    "fsn = terms[(terms['typeId'] == '900000000000003001') & (terms['acceptabilityId'] == '900000000000548007')]\n",
    "fsn = fsn[['conceptId', 'term', 'refsetId']]\n",
    "#print(fsn)"
   ]
  },
  {
   "cell_type": "markdown",
   "id": "c247573c-0ef5-433e-b907-66bcbceb5649",
   "metadata": {},
   "source": [
    "Then we derive a dataframe for preferred synonyms, i.e. _typeId_=900000000000013009 and _acceptabilityId_= 900000000000548007"
   ]
  },
  {
   "cell_type": "code",
   "execution_count": 21,
   "id": "ac4ae40a-0dc2-413b-b437-ba1c8b00eb9b",
   "metadata": {},
   "outputs": [
    {
     "name": "stdout",
     "output_type": "stream",
     "text": [
      "                  conceptId                                         term  \\\n",
      "0                 126813005    Neoplasm of anterior aspect of epiglottis   \n",
      "1                 126813005    Neoplasm of anterior aspect of epiglottis   \n",
      "2                 126814004  Neoplasm of junctional region of epiglottis   \n",
      "3                 126814004  Neoplasm of junctional region of epiglottis   \n",
      "4                 126815003       Neoplasm of lateral wall of oropharynx   \n",
      "...                     ...                                          ...   \n",
      "2531722  900000000000549004                                   Acceptable   \n",
      "2531723  900000000000550004                                   Definition   \n",
      "2531724  900000000000550004                                   Definition   \n",
      "2531727  625544171000132109                 Disorder of pancreatic stent   \n",
      "2531728  625544171000132109                 Disorder of pancreatic stent   \n",
      "\n",
      "                   refsetId  \n",
      "0        900000000000508004  \n",
      "1        900000000000509007  \n",
      "2        900000000000508004  \n",
      "3        900000000000509007  \n",
      "4        900000000000508004  \n",
      "...                     ...  \n",
      "2531722  900000000000509007  \n",
      "2531723  900000000000508004  \n",
      "2531724  900000000000509007  \n",
      "2531727  900000000000509007  \n",
      "2531728  900000000000508004  \n",
      "\n",
      "[1009826 rows x 3 columns]\n"
     ]
    }
   ],
   "source": [
    "prefs = terms[(terms['typeId'] == '900000000000013009') & (terms['acceptabilityId'] == '900000000000548007')]\n",
    "prefs = prefs[['conceptId', 'term', 'refsetId']]\n",
    "#print(prefs)"
   ]
  },
  {
   "cell_type": "markdown",
   "id": "f151839f-82ff-4571-8299-36a5931e3c13",
   "metadata": {},
   "source": [
    "Finally, we derive a dataframe for alternative synonyms, i.e. _typeId_=900000000000013009 and _acceptabilityId_= 900000000000549004"
   ]
  },
  {
   "cell_type": "code",
   "execution_count": 22,
   "id": "5ba86961-69ca-4d6f-b294-7f7f36b0d3dd",
   "metadata": {},
   "outputs": [
    {
     "name": "stdout",
     "output_type": "stream",
     "text": [
      "                  conceptId  \\\n",
      "93                126864006   \n",
      "94                126864006   \n",
      "95                126865007   \n",
      "96                126865007   \n",
      "105               126871001   \n",
      "...                     ...   \n",
      "2531686  900000000000542008   \n",
      "2531693  900000000000543003   \n",
      "2531694  900000000000543003   \n",
      "2531709  900000000000547002   \n",
      "2531710  900000000000547002   \n",
      "\n",
      "                                                      term            refsetId  \n",
      "93                        Neoplasm of islets of Langerhans  900000000000509007  \n",
      "94                        Neoplasm of islets of Langerhans  900000000000508004  \n",
      "95                              Neoplasm of the peritoneum  900000000000508004  \n",
      "96                              Neoplasm of the peritoneum  900000000000509007  \n",
      "105                                Neoplasm of the omentum  900000000000508004  \n",
      "...                                                    ...                 ...  \n",
      "2531686               Extensible HyperText Markup Language  900000000000508004  \n",
      "2531693             Darwin Information Typing Architecture  900000000000509007  \n",
      "2531694             Darwin Information Typing Architecture  900000000000508004  \n",
      "2531709  Relationship inactivation indicator attribute ...  900000000000508004  \n",
      "2531710  Relationship inactivation indicator attribute ...  900000000000509007  \n",
      "\n",
      "[512052 rows x 3 columns]\n"
     ]
    }
   ],
   "source": [
    "alts = terms[(terms['typeId'] == '900000000000013009') & (terms['acceptabilityId'] == '900000000000549004')]\n",
    "alts = alts[['conceptId', 'term', 'refsetId']]\n",
    "#print(alts)"
   ]
  },
  {
   "cell_type": "markdown",
   "id": "adff6f65-6684-47d3-9b13-a76cf3da3240",
   "metadata": {},
   "source": [
    "## RDF Graphs production\n",
    "\n",
    "We now generate the RDF graphs and we save them with a N-Triples serialisation.\n",
    "\n",
    "We start from the fully specified names, that are associated to terms both with the property MDX.fullySpecifiedName and RDFS.label."
   ]
  },
  {
   "cell_type": "code",
   "execution_count": 32,
   "id": "f89fad10-e942-4743-9b21-8f04820fb77c",
   "metadata": {},
   "outputs": [
    {
     "data": {
      "text/plain": [
       "<Graph identifier=N239a9bf5c50f4bcea6fba9620e98fdbd (<class 'rdflib.graph.Graph'>)>"
      ]
     },
     "execution_count": 32,
     "metadata": {},
     "output_type": "execute_result"
    }
   ],
   "source": [
    "def to_triple(row, property: URIRef) -> tuple[URIRef, URIRef, Literal]:\n",
    "    # us-en\n",
    "    if row[2] == '900000000000509007':\n",
    "        return (MDXD[row[0]], property, Literal(row[1], lang='us-en'))\n",
    "    # gb-en\n",
    "    else:\n",
    "        return (MDXD[row[0]], property, Literal(row[1], lang='gb-en'))\n",
    "        \n",
    "g = Graph()\n",
    "\n",
    "triples = [to_triple(row, MDX.fullySpecifiedName) for row in fsn.to_numpy()]\n",
    "for triple in triples:\n",
    "  g.add(triple)\n",
    "\n",
    "triples = [to_triple(row, RDFS.label) for row in fsn.to_numpy()]\n",
    "for triple in triples:\n",
    "  g.add(triple)\n",
    "\n",
    "g.serialize(destination='MDX Knowledge Graph/full-specified-names.nt', format='nt')"
   ]
  },
  {
   "cell_type": "markdown",
   "id": "7c47d9de-39bc-48a4-af6e-59e0805fbedf",
   "metadata": {},
   "source": [
    "Now is the turn of preferred synomyms, which are associated to terms both with the property MDX.fullySpecifiedName and RDFS.label."
   ]
  },
  {
   "cell_type": "code",
   "execution_count": 33,
   "id": "263e6e20-a30d-409e-9707-e473853d1f8e",
   "metadata": {},
   "outputs": [
    {
     "data": {
      "text/plain": [
       "<Graph identifier=Nc2a894bd75a640fea1f7603147a77d94 (<class 'rdflib.graph.Graph'>)>"
      ]
     },
     "execution_count": 33,
     "metadata": {},
     "output_type": "execute_result"
    }
   ],
   "source": [
    "g = Graph()\n",
    "triples = [to_triple(row, MDX.preferredSynonym) for row in prefs.to_numpy()]\n",
    "for triple in triples:\n",
    "  g.add(triple)\n",
    "\n",
    "g.serialize(destination='MDX Knowledge Graph/preferred-synonyms.nt', format='nt')"
   ]
  },
  {
   "cell_type": "code",
   "execution_count": 34,
   "id": "e9112cec-b4b8-47f1-a297-e0b7969621bb",
   "metadata": {},
   "outputs": [
    {
     "data": {
      "text/plain": [
       "<Graph identifier=Nf77af3b0a61a4b728f9221ed8f60dbc4 (<class 'rdflib.graph.Graph'>)>"
      ]
     },
     "execution_count": 34,
     "metadata": {},
     "output_type": "execute_result"
    }
   ],
   "source": [
    "g = Graph()\n",
    "triples = [to_triple(row, MDX.alternativeSynonym) for row in alts.to_numpy()]\n",
    "for triple in triples:\n",
    "  g.add(triple)\n",
    "\n",
    "g.serialize(destination='MDX Knowledge Graph/alternative-synonyms.nt', format='nt')"
   ]
  },
  {
   "cell_type": "code",
   "execution_count": null,
   "id": "6b20d3ed-08cd-40a4-8adb-0b01a836706d",
   "metadata": {},
   "outputs": [],
   "source": []
  }
 ],
 "metadata": {
  "kernelspec": {
   "display_name": "Python 3 (ipykernel)",
   "language": "python",
   "name": "python3"
  },
  "language_info": {
   "codemirror_mode": {
    "name": "ipython",
    "version": 3
   },
   "file_extension": ".py",
   "mimetype": "text/x-python",
   "name": "python",
   "nbconvert_exporter": "python",
   "pygments_lexer": "ipython3",
   "version": "3.11.4"
  }
 },
 "nbformat": 4,
 "nbformat_minor": 5
}
